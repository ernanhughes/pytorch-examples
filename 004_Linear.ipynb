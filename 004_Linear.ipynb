{
 "cells": [
  {
   "cell_type": "code",
   "execution_count": 9,
   "metadata": {},
   "outputs": [
    {
     "name": "stdout",
     "output_type": "stream",
     "text": [
      "Initial Loss: 3.0\n"
     ]
    },
    {
     "ename": "RuntimeError",
     "evalue": "a leaf Variable that requires grad is being used in an in-place operation.",
     "output_type": "error",
     "traceback": [
      "\u001b[1;31m---------------------------------------------------------------------------\u001b[0m",
      "\u001b[1;31mRuntimeError\u001b[0m                              Traceback (most recent call last)",
      "Cell \u001b[1;32mIn[9], line 33\u001b[0m\n\u001b[0;32m     30\u001b[0m loss\u001b[38;5;241m.\u001b[39mbackward() \u001b[38;5;66;03m# This line triggers automatic differentiation\u001b[39;00m\n\u001b[0;32m     32\u001b[0m \u001b[38;5;66;03m# Update model parameters based on gradients and learning rate\u001b[39;00m\n\u001b[1;32m---> 33\u001b[0m \u001b[43mw\u001b[49m\u001b[43m \u001b[49m\u001b[38;5;241;43m-\u001b[39;49m\u001b[38;5;241;43m=\u001b[39;49m\u001b[43m \u001b[49m\u001b[43mlearning_rate\u001b[49m\u001b[43m \u001b[49m\u001b[38;5;241;43m*\u001b[39;49m\u001b[43m \u001b[49m\u001b[43mw\u001b[49m\u001b[38;5;241;43m.\u001b[39;49m\u001b[43mgrad\u001b[49m \u001b[38;5;66;03m# Update weight\u001b[39;00m\n\u001b[0;32m     34\u001b[0m b \u001b[38;5;241m-\u001b[39m\u001b[38;5;241m=\u001b[39m learning_rate \u001b[38;5;241m*\u001b[39m b\u001b[38;5;241m.\u001b[39mgrad \u001b[38;5;66;03m# Update bias\u001b[39;00m\n\u001b[0;32m     36\u001b[0m \u001b[38;5;66;03m# Zero out gradients for the next iteration (optional)\u001b[39;00m\n",
      "\u001b[1;31mRuntimeError\u001b[0m: a leaf Variable that requires grad is being used in an in-place operation."
     ]
    }
   ],
   "source": [
    "import torch\n",
    "\n",
    "x = torch.tensor([1.0, 2.0, 3.0], requires_grad=True)\n",
    "y = torch.tensor([2.0, 4.0, 5.0], requires_grad=True)\n",
    "\n",
    "# Define a simple linear model (y = mx + b)\n",
    "def model(x, w, b):\n",
    "    return w * x + b\n",
    "\n",
    "# Initialize model parameters (weights and bias)\n",
    "w = torch.tensor(1.0, requires_grad=True)\n",
    "b = torch.tensor(0.0, requires_grad=True)\n",
    "\n",
    "# Define the loss function (Mean Squared Error)\n",
    "\n",
    "def loss_function(predicted_y, actual_y):\n",
    "    return torch.mean((predicted_y - actual_y)**2)\n",
    "\n",
    "# Forward pass: Calculate model prediction\n",
    "predicted_y = model(x, w, b)\n",
    "\n",
    "# Calculate the loss\n",
    "loss = loss_function(predicted_y, y)\n",
    "\n",
    "# Print the initial loss\n",
    "print(\"Initial Loss:\", loss.item())\n",
    "\n",
    "# Automatic differentiation: Calculate gradients\n",
    "learning_rate = torch.tensor(0.1, requires_grad=True) # Adjusts how much to update parameters\n",
    "loss.backward() # This line triggers automatic differentiation\n",
    "\n",
    "# Update model parameters based on gradients and learning rate\n",
    "w -= learning_rate * w.grad # Update weight\n",
    "b -= learning_rate * b.grad # Update bias\n",
    "\n",
    "# Zero out gradients for the next iteration (optional)\n",
    "w.grad.zero_()\n",
    "b.grad.zero_()\n",
    "\n",
    "# Forward pass again with updated parameters\n",
    "predicted_y = model(x, w, b)\n",
    "\n",
    "# Calculate the loss after update\n",
    "loss = loss_function(predicted_y, y)\n",
    "\n",
    "# Print the updated loss\n",
    "print(\"Loss after Update:\", loss.item())"
   ]
  }
 ],
 "metadata": {
  "kernelspec": {
   "display_name": "pytorch",
   "language": "python",
   "name": "python3"
  },
  "language_info": {
   "codemirror_mode": {
    "name": "ipython",
    "version": 3
   },
   "file_extension": ".py",
   "mimetype": "text/x-python",
   "name": "python",
   "nbconvert_exporter": "python",
   "pygments_lexer": "ipython3",
   "version": "3.11.9"
  }
 },
 "nbformat": 4,
 "nbformat_minor": 2
}
